{
 "cells": [
  {
   "cell_type": "markdown",
   "metadata": {},
   "source": [
    "# Females Who Exercise"
   ]
  },
  {
   "cell_type": "markdown",
   "metadata": {},
   "source": [
    "### Torrey Capobianco\n",
    "#### Bellevue University\n",
    "#### DSC 530\n",
    "#### Winter 2019"
   ]
  },
  {
   "cell_type": "markdown",
   "metadata": {},
   "source": [
    "# Hypothesis"
   ]
  },
  {
   "cell_type": "markdown",
   "metadata": {},
   "source": [
    "Women who have children under the age of 18 exercise less than women who do not have children under the age of 18."
   ]
  },
  {
   "cell_type": "markdown",
   "metadata": {},
   "source": [
    "# Packages"
   ]
  },
  {
   "cell_type": "markdown",
   "metadata": {},
   "source": [
    "This analysis uses packages and functions from ThinkStats (Allen B. Downey, 2015). "
   ]
  },
  {
   "cell_type": "code",
   "execution_count": 1,
   "metadata": {},
   "outputs": [],
   "source": [
    "from __future__ import print_function, division\n",
    "\n",
    "import sys\n",
    "import numpy as np\n",
    "import thinkstats2\n",
    "import thinkplot\n",
    "import pandas as pd\n",
    "import analytic\n",
    "\n",
    "import statsmodels.formula.api as smf"
   ]
  },
  {
   "cell_type": "markdown",
   "metadata": {},
   "source": [
    "# The Data"
   ]
  },
  {
   "cell_type": "markdown",
   "metadata": {},
   "source": [
    "### Import data"
   ]
  },
  {
   "cell_type": "markdown",
   "metadata": {},
   "source": [
    "The data can be retrieved from: https://www.kaggle.com/bls/american-time-use-survey"
   ]
  },
  {
   "cell_type": "code",
   "execution_count": 2,
   "metadata": {},
   "outputs": [],
   "source": [
    "resp = pd.read_csv('atusresp.csv')\n",
    "act = pd.read_csv('atusact.csv')\n",
    "rost = pd.read_csv('atusrost.csv')"
   ]
  },
  {
   "cell_type": "markdown",
   "metadata": {},
   "source": [
    "### Understanding the shape"
   ]
  },
  {
   "cell_type": "code",
   "execution_count": 3,
   "metadata": {},
   "outputs": [
    {
     "data": {
      "text/plain": [
       "170842"
      ]
     },
     "execution_count": 3,
     "metadata": {},
     "output_type": "execute_result"
    }
   ],
   "source": [
    "resp.shape[0]"
   ]
  },
  {
   "cell_type": "code",
   "execution_count": 4,
   "metadata": {},
   "outputs": [
    {
     "data": {
      "text/plain": [
       "3347093"
      ]
     },
     "execution_count": 4,
     "metadata": {},
     "output_type": "execute_result"
    }
   ],
   "source": [
    "# act has more entries. Each case id has a row for the activity performed\n",
    "act.shape[0]"
   ]
  },
  {
   "cell_type": "code",
   "execution_count": 5,
   "metadata": {},
   "outputs": [
    {
     "data": {
      "text/plain": [
       "477138"
      ]
     },
     "execution_count": 5,
     "metadata": {},
     "output_type": "execute_result"
    }
   ],
   "source": [
    "# rost has more entires. Each case id has a row for members in their household\n",
    "rost.shape[0]"
   ]
  },
  {
   "cell_type": "code",
   "execution_count": 6,
   "metadata": {},
   "outputs": [
    {
     "data": {
      "text/plain": [
       "0"
      ]
     },
     "execution_count": 6,
     "metadata": {},
     "output_type": "execute_result"
    }
   ],
   "source": [
    "# checking for null values\n",
    "resp.trchildnum.isnull().sum()\n",
    "resp.tehrusl1.isnull().sum()\n",
    "rost.tesex.isnull().sum()\n",
    "act.tuactdur24.isnull().sum()\n",
    "act.trtier2p.isnull().sum()\n",
    "act.trcodep.isnull().sum()\n",
    "act.trtier1p.isnull().sum()\n",
    "resp.tespuhrs.isnull().sum()\n",
    "resp.teernh1o.isnull().sum()\n"
   ]
  },
  {
   "cell_type": "code",
   "execution_count": 7,
   "metadata": {},
   "outputs": [],
   "source": [
    "# selecting only the entries (rows) for information on the respondent and not their household\n",
    "rost_self = rost[rost.tulineno == 1]"
   ]
  },
  {
   "cell_type": "code",
   "execution_count": 8,
   "metadata": {},
   "outputs": [
    {
     "data": {
      "text/plain": [
       "170842"
      ]
     },
     "execution_count": 8,
     "metadata": {},
     "output_type": "execute_result"
    }
   ],
   "source": [
    "# number of rows now matches number of rows in the respondent file (170,842)\n",
    "rost_self.shape[0]"
   ]
  },
  {
   "cell_type": "markdown",
   "metadata": {},
   "source": [
    "### Variable Selcetion"
   ]
  },
  {
   "cell_type": "code",
   "execution_count": 9,
   "metadata": {},
   "outputs": [],
   "source": [
    "# selecting the variables relevant to analysis from each data frame\n",
    "resp2 = pd.DataFrame(resp, columns = ['tucaseid', 'trchildnum', 'tespuhrs', 'tehruslt'])\n",
    "rost2 = pd.DataFrame(rost_self, columns = ['tucaseid', 'tesex', 'teage'])\n",
    "act2 = pd.DataFrame(act, columns = ['tucaseid', 'trtier1p', 'trtier2p', 'trcodep', 'tuactdur24'])"
   ]
  },
  {
   "cell_type": "markdown",
   "metadata": {},
   "source": [
    "tucaseid: case ID for respondent"
   ]
  },
  {
   "cell_type": "markdown",
   "metadata": {},
   "source": [
    "trchildnum: number of children for respondent"
   ]
  },
  {
   "cell_type": "markdown",
   "metadata": {},
   "source": [
    "tehruslt: usual hours worked per week for respondent"
   ]
  },
  {
   "cell_type": "markdown",
   "metadata": {},
   "source": [
    "tespuhrs: usual hours worked per week for respondent's spouse"
   ]
  },
  {
   "cell_type": "markdown",
   "metadata": {},
   "source": [
    "tesex: sex of respondent"
   ]
  },
  {
   "cell_type": "markdown",
   "metadata": {},
   "source": [
    "teage: age of respondent"
   ]
  },
  {
   "cell_type": "markdown",
   "metadata": {},
   "source": [
    "trtier1p: activity category 1st hierarchy"
   ]
  },
  {
   "cell_type": "markdown",
   "metadata": {},
   "source": [
    "trtier2p: activity category 2nd hierarchy"
   ]
  },
  {
   "cell_type": "markdown",
   "metadata": {},
   "source": [
    "trcodep: 6 digit activity code"
   ]
  },
  {
   "cell_type": "markdown",
   "metadata": {},
   "source": [
    "tuactdur24: duration of activity in minutes"
   ]
  },
  {
   "cell_type": "markdown",
   "metadata": {},
   "source": [
    "### Cleaning and merging data frames"
   ]
  },
  {
   "cell_type": "code",
   "execution_count": 10,
   "metadata": {},
   "outputs": [],
   "source": [
    "# filtering out the category \"sports, exercise & recreation,\" code 1301 from the activity data frame\n",
    "act_ex = act2[act2.trtier2p == 1301]"
   ]
  },
  {
   "cell_type": "code",
   "execution_count": 11,
   "metadata": {},
   "outputs": [
    {
     "data": {
      "text/plain": [
       "38814"
      ]
     },
     "execution_count": 11,
     "metadata": {},
     "output_type": "execute_result"
    }
   ],
   "source": [
    "act_ex.shape[0]"
   ]
  },
  {
   "cell_type": "code",
   "execution_count": 12,
   "metadata": {},
   "outputs": [],
   "source": [
    "# remove low impact recreational activities from trcodep\n",
    "# low impact recreational acitivities that would not result in \"exercise:\"\n",
    "# playing billiards, fishing, hunting, vehicle touring/racing\n",
    "\n",
    "low1 = act_ex[act_ex.trcodep != 130105] #remove playing billiards\n",
    "low2 = low1[low1.trcodep != 130112] # remove fishing\n",
    "low3 = low2[low2.trcodep != 130118] # remove hunting\n",
    "low4 = low3[low3.trcodep != 130129] # remove vehicle touring/racing"
   ]
  },
  {
   "cell_type": "code",
   "execution_count": 13,
   "metadata": {},
   "outputs": [
    {
     "data": {
      "text/html": [
       "<div>\n",
       "<style scoped>\n",
       "    .dataframe tbody tr th:only-of-type {\n",
       "        vertical-align: middle;\n",
       "    }\n",
       "\n",
       "    .dataframe tbody tr th {\n",
       "        vertical-align: top;\n",
       "    }\n",
       "\n",
       "    .dataframe thead th {\n",
       "        text-align: right;\n",
       "    }\n",
       "</style>\n",
       "<table border=\"1\" class=\"dataframe\">\n",
       "  <thead>\n",
       "    <tr style=\"text-align: right;\">\n",
       "      <th></th>\n",
       "      <th>tucaseid</th>\n",
       "      <th>trtier1p</th>\n",
       "      <th>trtier2p</th>\n",
       "      <th>trcodep</th>\n",
       "      <th>tuactdur24</th>\n",
       "    </tr>\n",
       "  </thead>\n",
       "  <tbody>\n",
       "    <tr>\n",
       "      <td>0</td>\n",
       "      <td>20030100013280</td>\n",
       "      <td>13</td>\n",
       "      <td>1301</td>\n",
       "      <td>130124</td>\n",
       "      <td>60</td>\n",
       "    </tr>\n",
       "    <tr>\n",
       "      <td>8</td>\n",
       "      <td>20030100013280</td>\n",
       "      <td>13</td>\n",
       "      <td>1301</td>\n",
       "      <td>130124</td>\n",
       "      <td>140</td>\n",
       "    </tr>\n",
       "    <tr>\n",
       "      <td>60</td>\n",
       "      <td>20030100014165</td>\n",
       "      <td>13</td>\n",
       "      <td>1301</td>\n",
       "      <td>130120</td>\n",
       "      <td>60</td>\n",
       "    </tr>\n",
       "    <tr>\n",
       "      <td>635</td>\n",
       "      <td>20030101030157</td>\n",
       "      <td>13</td>\n",
       "      <td>1301</td>\n",
       "      <td>130133</td>\n",
       "      <td>45</td>\n",
       "    </tr>\n",
       "    <tr>\n",
       "      <td>636</td>\n",
       "      <td>20030101030157</td>\n",
       "      <td>13</td>\n",
       "      <td>1301</td>\n",
       "      <td>130124</td>\n",
       "      <td>15</td>\n",
       "    </tr>\n",
       "  </tbody>\n",
       "</table>\n",
       "</div>"
      ],
      "text/plain": [
       "           tucaseid  trtier1p  trtier2p  trcodep  tuactdur24\n",
       "0    20030100013280        13      1301   130124          60\n",
       "8    20030100013280        13      1301   130124         140\n",
       "60   20030100014165        13      1301   130120          60\n",
       "635  20030101030157        13      1301   130133          45\n",
       "636  20030101030157        13      1301   130124          15"
      ]
     },
     "execution_count": 13,
     "metadata": {},
     "output_type": "execute_result"
    }
   ],
   "source": [
    "# for each respondent, if they did the acitivty twice in one day in two separate instances, there are two entries\n",
    "low4.head()"
   ]
  },
  {
   "cell_type": "code",
   "execution_count": 14,
   "metadata": {},
   "outputs": [],
   "source": [
    "# combining each entry for the same activity per respondent for a total duration time, removing individual exercise activities\n",
    "act_ex2 = pd.DataFrame(low4, columns = ['tucaseid', 'trtier1p', 'trtier2p', 'tuactdur24'])\n",
    "act_ex3 = act_ex2.groupby(['tucaseid', 'trtier1p', 'trtier2p'], as_index=False).sum()"
   ]
  },
  {
   "cell_type": "code",
   "execution_count": 15,
   "metadata": {},
   "outputs": [
    {
     "data": {
      "text/html": [
       "<div>\n",
       "<style scoped>\n",
       "    .dataframe tbody tr th:only-of-type {\n",
       "        vertical-align: middle;\n",
       "    }\n",
       "\n",
       "    .dataframe tbody tr th {\n",
       "        vertical-align: top;\n",
       "    }\n",
       "\n",
       "    .dataframe thead th {\n",
       "        text-align: right;\n",
       "    }\n",
       "</style>\n",
       "<table border=\"1\" class=\"dataframe\">\n",
       "  <thead>\n",
       "    <tr style=\"text-align: right;\">\n",
       "      <th></th>\n",
       "      <th>tucaseid</th>\n",
       "      <th>trtier1p</th>\n",
       "      <th>trtier2p</th>\n",
       "      <th>tuactdur24</th>\n",
       "    </tr>\n",
       "  </thead>\n",
       "  <tbody>\n",
       "    <tr>\n",
       "      <td>0</td>\n",
       "      <td>20030100013280</td>\n",
       "      <td>13</td>\n",
       "      <td>1301</td>\n",
       "      <td>200</td>\n",
       "    </tr>\n",
       "    <tr>\n",
       "      <td>1</td>\n",
       "      <td>20030100014165</td>\n",
       "      <td>13</td>\n",
       "      <td>1301</td>\n",
       "      <td>60</td>\n",
       "    </tr>\n",
       "    <tr>\n",
       "      <td>2</td>\n",
       "      <td>20030101030157</td>\n",
       "      <td>13</td>\n",
       "      <td>1301</td>\n",
       "      <td>60</td>\n",
       "    </tr>\n",
       "    <tr>\n",
       "      <td>3</td>\n",
       "      <td>20030101030758</td>\n",
       "      <td>13</td>\n",
       "      <td>1301</td>\n",
       "      <td>150</td>\n",
       "    </tr>\n",
       "    <tr>\n",
       "      <td>4</td>\n",
       "      <td>20030101030811</td>\n",
       "      <td>13</td>\n",
       "      <td>1301</td>\n",
       "      <td>20</td>\n",
       "    </tr>\n",
       "  </tbody>\n",
       "</table>\n",
       "</div>"
      ],
      "text/plain": [
       "         tucaseid  trtier1p  trtier2p  tuactdur24\n",
       "0  20030100013280        13      1301         200\n",
       "1  20030100014165        13      1301          60\n",
       "2  20030101030157        13      1301          60\n",
       "3  20030101030758        13      1301         150\n",
       "4  20030101030811        13      1301          20"
      ]
     },
     "execution_count": 15,
     "metadata": {},
     "output_type": "execute_result"
    }
   ],
   "source": [
    "# all exercise activities per respondent are combined to one line\n",
    "act_ex3.head()"
   ]
  },
  {
   "cell_type": "code",
   "execution_count": 16,
   "metadata": {},
   "outputs": [
    {
     "data": {
      "text/plain": [
       "28048"
      ]
     },
     "execution_count": 16,
     "metadata": {},
     "output_type": "execute_result"
    }
   ],
   "source": [
    "act_ex3.shape[0]"
   ]
  },
  {
   "cell_type": "code",
   "execution_count": 17,
   "metadata": {},
   "outputs": [],
   "source": [
    "# merge resp2 and rost2 data frames to bring in the sex and age\n",
    "resp_rost = pd.merge(resp2, rost2, on = 'tucaseid')"
   ]
  },
  {
   "cell_type": "code",
   "execution_count": 18,
   "metadata": {},
   "outputs": [
    {
     "data": {
      "text/html": [
       "<div>\n",
       "<style scoped>\n",
       "    .dataframe tbody tr th:only-of-type {\n",
       "        vertical-align: middle;\n",
       "    }\n",
       "\n",
       "    .dataframe tbody tr th {\n",
       "        vertical-align: top;\n",
       "    }\n",
       "\n",
       "    .dataframe thead th {\n",
       "        text-align: right;\n",
       "    }\n",
       "</style>\n",
       "<table border=\"1\" class=\"dataframe\">\n",
       "  <thead>\n",
       "    <tr style=\"text-align: right;\">\n",
       "      <th></th>\n",
       "      <th>tucaseid</th>\n",
       "      <th>trchildnum</th>\n",
       "      <th>tespuhrs</th>\n",
       "      <th>tehruslt</th>\n",
       "      <th>tesex</th>\n",
       "      <th>teage</th>\n",
       "    </tr>\n",
       "  </thead>\n",
       "  <tbody>\n",
       "    <tr>\n",
       "      <td>0</td>\n",
       "      <td>20030100013280</td>\n",
       "      <td>0</td>\n",
       "      <td>-1.0</td>\n",
       "      <td>30</td>\n",
       "      <td>1</td>\n",
       "      <td>60</td>\n",
       "    </tr>\n",
       "    <tr>\n",
       "      <td>1</td>\n",
       "      <td>20030100013344</td>\n",
       "      <td>2</td>\n",
       "      <td>50.0</td>\n",
       "      <td>30</td>\n",
       "      <td>2</td>\n",
       "      <td>41</td>\n",
       "    </tr>\n",
       "    <tr>\n",
       "      <td>2</td>\n",
       "      <td>20030100013352</td>\n",
       "      <td>0</td>\n",
       "      <td>-1.0</td>\n",
       "      <td>12</td>\n",
       "      <td>2</td>\n",
       "      <td>26</td>\n",
       "    </tr>\n",
       "    <tr>\n",
       "      <td>3</td>\n",
       "      <td>20030100013848</td>\n",
       "      <td>2</td>\n",
       "      <td>40.0</td>\n",
       "      <td>-1</td>\n",
       "      <td>2</td>\n",
       "      <td>36</td>\n",
       "    </tr>\n",
       "    <tr>\n",
       "      <td>4</td>\n",
       "      <td>20030100014165</td>\n",
       "      <td>2</td>\n",
       "      <td>-1.0</td>\n",
       "      <td>80</td>\n",
       "      <td>1</td>\n",
       "      <td>51</td>\n",
       "    </tr>\n",
       "  </tbody>\n",
       "</table>\n",
       "</div>"
      ],
      "text/plain": [
       "         tucaseid  trchildnum  tespuhrs  tehruslt  tesex  teage\n",
       "0  20030100013280           0      -1.0        30      1     60\n",
       "1  20030100013344           2      50.0        30      2     41\n",
       "2  20030100013352           0      -1.0        12      2     26\n",
       "3  20030100013848           2      40.0        -1      2     36\n",
       "4  20030100014165           2      -1.0        80      1     51"
      ]
     },
     "execution_count": 18,
     "metadata": {},
     "output_type": "execute_result"
    }
   ],
   "source": [
    "resp_rost.head()"
   ]
  },
  {
   "cell_type": "code",
   "execution_count": 19,
   "metadata": {},
   "outputs": [],
   "source": [
    "# merge resp_rost and act_ex3 data frames to bring in the exercise activity and duration\n",
    "resp_ex = pd.merge(resp_rost, act_ex3, on = 'tucaseid')"
   ]
  },
  {
   "cell_type": "code",
   "execution_count": 20,
   "metadata": {},
   "outputs": [
    {
     "data": {
      "text/html": [
       "<div>\n",
       "<style scoped>\n",
       "    .dataframe tbody tr th:only-of-type {\n",
       "        vertical-align: middle;\n",
       "    }\n",
       "\n",
       "    .dataframe tbody tr th {\n",
       "        vertical-align: top;\n",
       "    }\n",
       "\n",
       "    .dataframe thead th {\n",
       "        text-align: right;\n",
       "    }\n",
       "</style>\n",
       "<table border=\"1\" class=\"dataframe\">\n",
       "  <thead>\n",
       "    <tr style=\"text-align: right;\">\n",
       "      <th></th>\n",
       "      <th>tucaseid</th>\n",
       "      <th>trchildnum</th>\n",
       "      <th>tespuhrs</th>\n",
       "      <th>tehruslt</th>\n",
       "      <th>tesex</th>\n",
       "      <th>teage</th>\n",
       "      <th>trtier1p</th>\n",
       "      <th>trtier2p</th>\n",
       "      <th>tuactdur24</th>\n",
       "    </tr>\n",
       "  </thead>\n",
       "  <tbody>\n",
       "    <tr>\n",
       "      <td>0</td>\n",
       "      <td>20030100013280</td>\n",
       "      <td>0</td>\n",
       "      <td>-1.0</td>\n",
       "      <td>30</td>\n",
       "      <td>1</td>\n",
       "      <td>60</td>\n",
       "      <td>13</td>\n",
       "      <td>1301</td>\n",
       "      <td>200</td>\n",
       "    </tr>\n",
       "    <tr>\n",
       "      <td>1</td>\n",
       "      <td>20030100014165</td>\n",
       "      <td>2</td>\n",
       "      <td>-1.0</td>\n",
       "      <td>80</td>\n",
       "      <td>1</td>\n",
       "      <td>51</td>\n",
       "      <td>13</td>\n",
       "      <td>1301</td>\n",
       "      <td>60</td>\n",
       "    </tr>\n",
       "    <tr>\n",
       "      <td>2</td>\n",
       "      <td>20030101030157</td>\n",
       "      <td>0</td>\n",
       "      <td>-1.0</td>\n",
       "      <td>45</td>\n",
       "      <td>1</td>\n",
       "      <td>27</td>\n",
       "      <td>13</td>\n",
       "      <td>1301</td>\n",
       "      <td>60</td>\n",
       "    </tr>\n",
       "    <tr>\n",
       "      <td>3</td>\n",
       "      <td>20030101030758</td>\n",
       "      <td>1</td>\n",
       "      <td>-1.0</td>\n",
       "      <td>45</td>\n",
       "      <td>1</td>\n",
       "      <td>38</td>\n",
       "      <td>13</td>\n",
       "      <td>1301</td>\n",
       "      <td>150</td>\n",
       "    </tr>\n",
       "    <tr>\n",
       "      <td>4</td>\n",
       "      <td>20030101030811</td>\n",
       "      <td>0</td>\n",
       "      <td>-1.0</td>\n",
       "      <td>50</td>\n",
       "      <td>1</td>\n",
       "      <td>31</td>\n",
       "      <td>13</td>\n",
       "      <td>1301</td>\n",
       "      <td>20</td>\n",
       "    </tr>\n",
       "  </tbody>\n",
       "</table>\n",
       "</div>"
      ],
      "text/plain": [
       "         tucaseid  trchildnum  tespuhrs  tehruslt  tesex  teage  trtier1p  \\\n",
       "0  20030100013280           0      -1.0        30      1     60        13   \n",
       "1  20030100014165           2      -1.0        80      1     51        13   \n",
       "2  20030101030157           0      -1.0        45      1     27        13   \n",
       "3  20030101030758           1      -1.0        45      1     38        13   \n",
       "4  20030101030811           0      -1.0        50      1     31        13   \n",
       "\n",
       "   trtier2p  tuactdur24  \n",
       "0      1301         200  \n",
       "1      1301          60  \n",
       "2      1301          60  \n",
       "3      1301         150  \n",
       "4      1301          20  "
      ]
     },
     "execution_count": 20,
     "metadata": {},
     "output_type": "execute_result"
    }
   ],
   "source": [
    "resp_ex.head()"
   ]
  },
  {
   "cell_type": "markdown",
   "metadata": {},
   "source": [
    "# Histograms and Descriptive Characteristics"
   ]
  },
  {
   "cell_type": "code",
   "execution_count": 21,
   "metadata": {},
   "outputs": [],
   "source": [
    "# filering out women\n",
    "resp_ex_fem = resp_ex[resp_ex.tesex == 2]"
   ]
  },
  {
   "cell_type": "markdown",
   "metadata": {},
   "source": [
    "### Time spent exercising"
   ]
  },
  {
   "cell_type": "code",
   "execution_count": 22,
   "metadata": {
    "scrolled": true
   },
   "outputs": [
    {
     "data": {
      "image/png": "[encoded data removed]",
      "text/plain": [
       "<Figure size 432x288 with 1 Axes>"
      ]
     },
     "metadata": {
      "needs_background": "light"
     },
     "output_type": "display_data"
    },
    {
     "data": {
      "text/plain": [
       "<Figure size 576x432 with 0 Axes>"
      ]
     },
     "metadata": {},
     "output_type": "display_data"
    }
   ],
   "source": [
    "# tuactdur24\n",
    "# histogram of time spent exercising for females \n",
    "hist_ex_fem = thinkstats2.Hist(resp_ex_fem.tuactdur24, label='Exercise duration for females')\n",
    "\n",
    "width = 3\n",
    "\n",
    "thinkplot.PrePlot(1)\n",
    "thinkplot.Hist(hist_ex_fem, width = width)\n",
    "thinkplot.Show(title = 'Histogram of time spent exercising', xlabel='duration of exercise in minutes', ylabel='frequency')"
   ]
  },
  {
   "cell_type": "code",
   "execution_count": 23,
   "metadata": {},
   "outputs": [
    {
     "name": "stdout",
     "output_type": "stream",
     "text": [
      "The mode is: 60 minutes.\n",
      "The mean is: 77.37604122546944\n",
      "The variance is: 4676.858441821068\n",
      "The standard deviation is: 68.3875605780837\n"
     ]
    }
   ],
   "source": [
    "print('The mode is: 60 minutes.')\n",
    "print('The mean is:', resp_ex_fem.tuactdur24.mean())\n",
    "print('The variance is:', resp_ex_fem.tuactdur24.var())\n",
    "print('The standard deviation is:', resp_ex_fem.tuactdur24.std())"
   ]
  },
  {
   "cell_type": "code",
   "execution_count": 24,
   "metadata": {},
   "outputs": [
    {
     "data": {
      "text/plain": [
       "850"
      ]
     },
     "execution_count": 24,
     "metadata": {},
     "output_type": "execute_result"
    }
   ],
   "source": [
    "# maximum minutes that female respondent recorded to be spending in category \"sports, exercise, & recreation\" which is 15 hours\n",
    "resp_ex_fem[\"tuactdur24\"].max()"
   ]
  },
  {
   "cell_type": "code",
   "execution_count": 25,
   "metadata": {},
   "outputs": [
    {
     "name": "stdout",
     "output_type": "stream",
     "text": [
      "850 1\n",
      "777 1\n",
      "690 1\n",
      "625 1\n",
      "615 1\n",
      "610 1\n",
      "609 1\n",
      "601 1\n",
      "570 1\n",
      "565 1\n",
      "540 3\n",
      "530 2\n",
      "525 2\n",
      "524 1\n",
      "520 4\n",
      "519 1\n",
      "515 1\n",
      "510 3\n",
      "505 2\n",
      "500 2\n"
     ]
    }
   ],
   "source": [
    "# frequency of top 20 largest length of exercise\n",
    "for tuactdur24, freq in hist_ex_fem.Largest(20):\n",
    "    print(tuactdur24, freq)"
   ]
  },
  {
   "cell_type": "code",
   "execution_count": 26,
   "metadata": {},
   "outputs": [],
   "source": [
    "# Outliers\n",
    "# remove cases where exercise is greater than 240 minutes or 4 hours as more than 4-15 hours of exercise in 1 day seems not \n",
    "# reasonable for many respondents.\n",
    "resp_ex_fem2 = resp_ex_fem[resp_ex_fem.tuactdur24 <= 240]"
   ]
  },
  {
   "cell_type": "code",
   "execution_count": 27,
   "metadata": {},
   "outputs": [
    {
     "data": {
      "image/png": "[encoded data removed]",
      "text/plain": [
       "<Figure size 432x288 with 1 Axes>"
      ]
     },
     "metadata": {
      "needs_background": "light"
     },
     "output_type": "display_data"
    },
    {
     "data": {
      "text/plain": [
       "<Figure size 576x432 with 0 Axes>"
      ]
     },
     "metadata": {},
     "output_type": "display_data"
    }
   ],
   "source": [
    "hist_ex_fem2 = thinkstats2.Hist(resp_ex_fem2.tuactdur24, label='Exercise duration for females')\n",
    "\n",
    "width = 3\n",
    "\n",
    "thinkplot.PrePlot(1)\n",
    "thinkplot.Hist(hist_ex_fem2, width = width)\n",
    "thinkplot.Show(title = 'Histogram of exercise duration', xlabel='duration of exercise in minutes', \n",
    "               ylabel='frequency', axis=[0, 240, 0, 3050])"
   ]
  },
  {
   "cell_type": "code",
   "execution_count": 28,
   "metadata": {},
   "outputs": [
    {
     "name": "stdout",
     "output_type": "stream",
     "text": [
      "The mode is: 60 minutes.\n",
      "The mean is: 68.50642335766423\n",
      "The variance is: 2198.3885272461675\n",
      "The standard deviation is: 46.88697609407294\n",
      "The histogram is left skewed with most of the time spent exercising in the left tail with the right tail extending far to the right.\n"
     ]
    }
   ],
   "source": [
    "print('The mode is: 60 minutes.')\n",
    "print('The mean is:', resp_ex_fem2.tuactdur24.mean())\n",
    "print('The variance is:', resp_ex_fem2.tuactdur24.var())\n",
    "print('The standard deviation is:', resp_ex_fem2.tuactdur24.std())\n",
    "print('The histogram is left skewed with most of the time spent exercising in the left tail with the right tail extending far to the right.')"
   ]
  },
  {
   "cell_type": "markdown",
   "metadata": {},
   "source": [
    "### Age"
   ]
  },
  {
   "cell_type": "code",
   "execution_count": 29,
   "metadata": {},
   "outputs": [
    {
     "data": {
      "image/png": "[encoded data removed]",
      "text/plain": [
       "<Figure size 432x288 with 1 Axes>"
      ]
     },
     "metadata": {
      "needs_background": "light"
     },
     "output_type": "display_data"
    },
    {
     "data": {
      "text/plain": [
       "<Figure size 576x432 with 0 Axes>"
      ]
     },
     "metadata": {},
     "output_type": "display_data"
    }
   ],
   "source": [
    "# teage\n",
    "# histogram of ages of females who exercise\n",
    "hist_ex_fem_age = thinkstats2.Hist(resp_ex_fem2.teage, label='Age of females')\n",
    "\n",
    "width = .5\n",
    "\n",
    "thinkplot.PrePlot(1)\n",
    "thinkplot.Hist(hist_ex_fem_age, width = width)\n",
    "thinkplot.Show(title = 'Histogram of ages', xlabel='age in years', ylabel='frequency')"
   ]
  },
  {
   "cell_type": "code",
   "execution_count": 30,
   "metadata": {},
   "outputs": [
    {
     "name": "stdout",
     "output_type": "stream",
     "text": [
      "The mode is: 80 years\n",
      "The mean is: 46.957664233576644\n",
      "The variance is: 326.5769359263821\n",
      "The standard deviation is: 18.07143978565023\n",
      "The histogram is multimodal, with a range with females less than their 20's, mid 40's, and the right tail their 80's.\n"
     ]
    }
   ],
   "source": [
    "print('The mode is: 80 years')\n",
    "print('The mean is:', resp_ex_fem2.teage.mean())\n",
    "print('The variance is:', resp_ex_fem2.teage.var())\n",
    "print('The standard deviation is:', resp_ex_fem2.teage.std())\n",
    "print('The histogram is multimodal, with a range with females less than their 20\\'s, mid 40\\'s, and the right tail their 80\\'s.')"
   ]
  },
  {
   "cell_type": "markdown",
   "metadata": {},
   "source": [
    "### Number of Children"
   ]
  },
  {
   "cell_type": "code",
   "execution_count": 31,
   "metadata": {
    "scrolled": true
   },
   "outputs": [
    {
     "data": {
      "image/png": "[encoded data removed]",
      "text/plain": [
       "<Figure size 432x288 with 1 Axes>"
      ]
     },
     "metadata": {
      "needs_background": "light"
     },
     "output_type": "display_data"
    },
    {
     "data": {
      "text/plain": [
       "<Figure size 576x432 with 0 Axes>"
      ]
     },
     "metadata": {},
     "output_type": "display_data"
    }
   ],
   "source": [
    "# trchildnum\n",
    "# histogram of number of children for females who exercise\n",
    "hist_ex_fem_children = thinkstats2.Hist(resp_ex_fem2.trchildnum, label='Number of children for females')\n",
    "\n",
    "width = .8\n",
    "\n",
    "thinkplot.PrePlot(1)\n",
    "thinkplot.Hist(hist_ex_fem_children, width = width)\n",
    "thinkplot.Show(title = 'Histogram of number of children', xlabel='number of children', ylabel='frequency')"
   ]
  },
  {
   "cell_type": "code",
   "execution_count": 32,
   "metadata": {},
   "outputs": [
    {
     "name": "stdout",
     "output_type": "stream",
     "text": [
      "The mode is: 0 children\n",
      "The mean is: 0.8681021897810219\n",
      "The variance is: 1.278243715376187\n",
      "The standard deviation is: 1.130594407989084\n",
      "The histogram is left negative skewed with a tail extending far to the right.\n"
     ]
    }
   ],
   "source": [
    "print('The mode is: 0 children')\n",
    "print('The mean is:', resp_ex_fem2.trchildnum.mean())\n",
    "print('The variance is:', resp_ex_fem2.trchildnum.var())\n",
    "print('The standard deviation is:', resp_ex_fem2.trchildnum.std())\n",
    "print('The histogram is left negative skewed with a tail extending far to the right.')"
   ]
  },
  {
   "cell_type": "markdown",
   "metadata": {},
   "source": [
    "### Usual number of hours worked per week for respondent"
   ]
  },
  {
   "cell_type": "code",
   "execution_count": 33,
   "metadata": {},
   "outputs": [
    {
     "data": {
      "image/png": "[encoded data removed]",
      "text/plain": [
       "<Figure size 432x288 with 1 Axes>"
      ]
     },
     "metadata": {
      "needs_background": "light"
     },
     "output_type": "display_data"
    },
    {
     "data": {
      "text/plain": [
       "<Figure size 576x432 with 0 Axes>"
      ]
     },
     "metadata": {},
     "output_type": "display_data"
    }
   ],
   "source": [
    "# tehruslt\n",
    "# histogram of usual hours work per week for female respondent\n",
    "# value of -4 means hours vary\n",
    "# value of -1 means does not work\n",
    "hist_ex_fem_work = thinkstats2.Hist(resp_ex_fem2.tehruslt, label='Hours work for females')\n",
    "\n",
    "width = 1\n",
    "\n",
    "thinkplot.PrePlot(1)\n",
    "thinkplot.Hist(hist_ex_fem_work, width = width)\n",
    "thinkplot.Show(title = 'Histogram of hours worked per week for females', xlabel='hours per week', ylabel='frequency')"
   ]
  },
  {
   "cell_type": "code",
   "execution_count": 34,
   "metadata": {},
   "outputs": [
    {
     "name": "stdout",
     "output_type": "stream",
     "text": [
      "The mode is: -1 or does not work.\n",
      "The mean is: 19.04970802919708\n",
      "The variance is: 443.0823526411815\n",
      "The standard deviation is: 21.0495214349681\n",
      "The histogram is binominal, with two peaks at -1 (does not work) and 40 hours.\n"
     ]
    }
   ],
   "source": [
    "print('The mode is: -1 or does not work.')\n",
    "print('The mean is:', resp_ex_fem2.tehruslt.mean())\n",
    "print('The variance is:', resp_ex_fem2.tehruslt.var())\n",
    "print('The standard deviation is:', resp_ex_fem2.tehruslt.std())\n",
    "print('The histogram is binominal, with two peaks at -1 (does not work) and 40 hours.')"
   ]
  },
  {
   "cell_type": "markdown",
   "metadata": {},
   "source": [
    "### Usual number of hours worked per week for respondent's spouse"
   ]
  },
  {
   "cell_type": "code",
   "execution_count": 35,
   "metadata": {},
   "outputs": [
    {
     "data": {
      "image/png": "[encoded data removed]",
      "text/plain": [
       "<Figure size 432x288 with 1 Axes>"
      ]
     },
     "metadata": {
      "needs_background": "light"
     },
     "output_type": "display_data"
    },
    {
     "data": {
      "text/plain": [
       "<Figure size 576x432 with 0 Axes>"
      ]
     },
     "metadata": {},
     "output_type": "display_data"
    }
   ],
   "source": [
    "# tespuhrs\n",
    "# histogram of usual hours work per week for spouse of female respondent\n",
    "# value of -4 means hours vary\n",
    "# value of -1 means does not work\n",
    "hist_ex_fem_work_sp = thinkstats2.Hist(resp_ex_fem2.tespuhrs, label='Hours work for spouse')\n",
    "\n",
    "width = 1\n",
    "\n",
    "thinkplot.PrePlot(1)\n",
    "thinkplot.Hist(hist_ex_fem_work_sp, width = width)\n",
    "thinkplot.Show(title = 'Histogram of hours work per week for female\\'s spouses', xlabel='hours per week', ylabel='frequency')"
   ]
  },
  {
   "cell_type": "code",
   "execution_count": 36,
   "metadata": {},
   "outputs": [
    {
     "name": "stdout",
     "output_type": "stream",
     "text": [
      "The mode is: -1 or does not work.\n",
      "The mean is: 17.326934306569342\n",
      "The variance is: 563.6318462106941\n",
      "The standard deviation is: 23.740931873258347\n",
      "The histogram is binominal, with two peaks at -1 (does not work) and 40 hours.\n"
     ]
    }
   ],
   "source": [
    "print('The mode is: -1 or does not work.')\n",
    "print('The mean is:', resp_ex_fem2.tespuhrs.mean())\n",
    "print('The variance is:', resp_ex_fem2.tespuhrs.var())\n",
    "print('The standard deviation is:', resp_ex_fem2.tespuhrs.std())\n",
    "print('The histogram is binominal, with two peaks at -1 (does not work) and 40 hours.')"
   ]
  },
  {
   "cell_type": "markdown",
   "metadata": {},
   "source": [
    "# Comparing Two Scenarios with PMF\n",
    "## Females who exercise\n",
    "### With children under 18 or without children"
   ]
  },
  {
   "cell_type": "code",
   "execution_count": 37,
   "metadata": {},
   "outputs": [],
   "source": [
    "# looking at females who exercise that have children under the age of 18 vs no children under the age of 18\n",
    "fem_child = resp_ex_fem2[resp_ex_fem2.trchildnum > 0]\n",
    "fem_nochild = resp_ex_fem2[resp_ex_fem2.trchildnum == 0]"
   ]
  },
  {
   "cell_type": "code",
   "execution_count": 38,
   "metadata": {
    "scrolled": false
   },
   "outputs": [
    {
     "data": {
      "image/png": "[encoded data removed]",
      "text/plain": [
       "<Figure size 432x288 with 1 Axes>"
      ]
     },
     "metadata": {
      "needs_background": "light"
     },
     "output_type": "display_data"
    },
    {
     "data": {
      "text/plain": [
       "<Figure size 576x432 with 0 Axes>"
      ]
     },
     "metadata": {},
     "output_type": "display_data"
    }
   ],
   "source": [
    "# histogram comparison\n",
    "hist_child_fem_ex = thinkstats2.Hist(fem_child.tuactdur24, label='with child')\n",
    "hist_nochild_fem_ex = thinkstats2.Hist(fem_nochild.tuactdur24, label='no child')\n",
    "\n",
    "width = 3\n",
    "\n",
    "thinkplot.PrePlot(2)\n",
    "thinkplot.Hist(hist_child_fem_ex, align='right', width = width)\n",
    "thinkplot.Hist(hist_nochild_fem_ex, align='left', width=width)\n",
    "thinkplot.Show(title = 'Histogram of females with and without children', xlabel='duration of exercise in minutes', \n",
    "               ylabel='frequency', axis=[0, 240, 0, 1750])"
   ]
  },
  {
   "cell_type": "code",
   "execution_count": 39,
   "metadata": {},
   "outputs": [],
   "source": [
    "# PMF distributions of child and no child\n",
    "child_pmf = thinkstats2.Pmf(fem_child.tuactdur24, label = \"with child\")\n",
    "nochild_pmf = thinkstats2.Pmf(fem_nochild.tuactdur24, label = \"no child\")"
   ]
  },
  {
   "cell_type": "code",
   "execution_count": 40,
   "metadata": {},
   "outputs": [
    {
     "data": {
      "image/png": "[encoded data removed]",
      "text/plain": [
       "<Figure size 864x432 with 2 Axes>"
      ]
     },
     "metadata": {
      "needs_background": "light"
     },
     "output_type": "display_data"
    }
   ],
   "source": [
    "# PMF comparison\n",
    "width=3\n",
    "axis = [0, 240, 0, .23]\n",
    "thinkplot.PrePlot(2, cols=2)\n",
    "thinkplot.Hist(child_pmf, align='right', width=width)\n",
    "thinkplot.Hist(nochild_pmf, align='left', width=width)\n",
    "thinkplot.Config(title = 'PMF of females with and without children', xlabel='duration of exercise in minutes', \n",
    "                 ylabel='probability', axis=axis)\n",
    "\n",
    "# step function\n",
    "thinkplot.PrePlot(2)\n",
    "thinkplot.SubPlot(2)\n",
    "thinkplot.Pmfs([child_pmf, nochild_pmf])\n",
    "thinkplot.Config(title = 'Step Function of females with and without children', xlabel='duration of exercise in minutes', \n",
    "                 ylable = 'probability', axis=axis)"
   ]
  },
  {
   "cell_type": "code",
   "execution_count": 41,
   "metadata": {},
   "outputs": [
    {
     "data": {
      "text/plain": [
       "(73.34345831355797, 64.36292180512264)"
      ]
     },
     "execution_count": 41,
     "metadata": {},
     "output_type": "execute_result"
    }
   ],
   "source": [
    "# mean\n",
    "fem_child.tuactdur24.mean(), fem_nochild.tuactdur24.mean()"
   ]
  },
  {
   "cell_type": "code",
   "execution_count": 42,
   "metadata": {},
   "outputs": [
    {
     "data": {
      "text/plain": [
       "(2401.307492405041, 1987.6500535927373)"
      ]
     },
     "execution_count": 42,
     "metadata": {},
     "output_type": "execute_result"
    }
   ],
   "source": [
    "# variance\n",
    "fem_child.tuactdur24.var(), fem_nochild.tuactdur24.var()"
   ]
  },
  {
   "cell_type": "code",
   "execution_count": 43,
   "metadata": {},
   "outputs": [
    {
     "data": {
      "text/plain": [
       "(49.003137577149495, 44.583069136082784)"
      ]
     },
     "execution_count": 43,
     "metadata": {},
     "output_type": "execute_result"
    }
   ],
   "source": [
    "# standard deviation\n",
    "fem_child.tuactdur24.std(), fem_nochild.tuactdur24.std()"
   ]
  },
  {
   "cell_type": "markdown",
   "metadata": {},
   "source": [
    "# Comparing Two Scenarios with CDF\n",
    "## Females who exercise\n",
    "### With children under 18 or without children"
   ]
  },
  {
   "cell_type": "code",
   "execution_count": 44,
   "metadata": {},
   "outputs": [
    {
     "data": {
      "image/png": "[encoded data removed]",
      "text/plain": [
       "<Figure size 432x288 with 1 Axes>"
      ]
     },
     "metadata": {
      "needs_background": "light"
     },
     "output_type": "display_data"
    }
   ],
   "source": [
    "# CDF of duration of women who exercise with children and without children\n",
    "child_cdf = thinkstats2.Cdf(fem_child.tuactdur24, label = \"with child\") #dark blue\n",
    "nochild_cdf = thinkstats2.Cdf(fem_nochild.tuactdur24, label = \"no child\") #light blue\n",
    "\n",
    "thinkplot.PrePlot(2)\n",
    "thinkplot.Cdfs([child_cdf, nochild_cdf])\n",
    "thinkplot.Config(title = 'CDF of women with and without children', xlabel='duration of exercise in minutes', ylabel='CDF')"
   ]
  },
  {
   "cell_type": "code",
   "execution_count": 45,
   "metadata": {},
   "outputs": [],
   "source": [
    "# no child: less than 100 mintues: 82% of females\n",
    "# with child: less than 100 minutes: 78% of females\n",
    "\n",
    "# no child: less than 50 minutes: 45% of females\n",
    "# with child: less than 50 minutes: 39% of females\n",
    "\n",
    "# less 60 minutes both with and without children are about 60% of the time\n",
    "# over 60 minutes, women with no children tend to exercise more\n",
    "\n",
    "# 30 minutes is another common exercise duration between the two groups"
   ]
  },
  {
   "cell_type": "markdown",
   "metadata": {},
   "source": [
    "# Analytical Distribution\n",
    "## Exponential Distribution\n",
    "### Women who exercise"
   ]
  },
  {
   "cell_type": "markdown",
   "metadata": {},
   "source": [
    "#### Lognormal Distribution"
   ]
  },
  {
   "cell_type": "code",
   "execution_count": 46,
   "metadata": {},
   "outputs": [],
   "source": [
    "def MakeNormalModel(weights):\n",
    "    \"\"\"Plots a CDF with a Normal model.\n",
    "\n",
    "    weights: sequence\n",
    "    \"\"\"\n",
    "    cdf = thinkstats2.Cdf(weights, label='duration')\n",
    "\n",
    "    mean, var = thinkstats2.TrimmedMeanVar(weights)\n",
    "    std = np.sqrt(var)\n",
    "    print('n, mean, std', len(weights), mean, std)\n",
    "\n",
    "    xmin = mean - 4 * std\n",
    "    xmax = mean + 4 * std\n",
    "\n",
    "    xs, ps = thinkstats2.RenderNormalCdf(mean, std, xmin, xmax)\n",
    "    thinkplot.Plot(xs, ps, label='model', linewidth=4, color='0.8')\n",
    "    thinkplot.Cdf(cdf)"
   ]
  },
  {
   "cell_type": "code",
   "execution_count": 47,
   "metadata": {},
   "outputs": [],
   "source": [
    "duration = resp_ex_fem2.tuactdur24"
   ]
  },
  {
   "cell_type": "code",
   "execution_count": 48,
   "metadata": {},
   "outputs": [
    {
     "name": "stdout",
     "output_type": "stream",
     "text": [
      "n, mean, std 13700 1.7410207945219451 0.28301808851110255\n"
     ]
    },
    {
     "data": {
      "image/png": "[encoded data removed]",
      "text/plain": [
       "<Figure size 432x288 with 1 Axes>"
      ]
     },
     "metadata": {
      "needs_background": "light"
     },
     "output_type": "display_data"
    }
   ],
   "source": [
    "# Exercise duration for all females\n",
    "log_duration = np.log10(duration)\n",
    "MakeNormalModel(log_duration)\n",
    "thinkplot.Config(title='Exercise duration for all females, log scale', xlabel='duration (log10 minutes)',\n",
    "                 ylabel='CDF', loc='upper left')"
   ]
  },
  {
   "cell_type": "code",
   "execution_count": 49,
   "metadata": {},
   "outputs": [],
   "source": [
    "# The lognormal model has a small standard devation close to the mean. It is a good model fit for the data. It can model how\n",
    "# many minutes a female may exercise in one day."
   ]
  },
  {
   "cell_type": "markdown",
   "metadata": {},
   "source": [
    "# Variable Relationships"
   ]
  },
  {
   "cell_type": "code",
   "execution_count": 50,
   "metadata": {},
   "outputs": [],
   "source": [
    "def Jitter(values, jitter=0.5):\n",
    "    n = len(values)\n",
    "    return np.random.normal(0, jitter, n) + values"
   ]
  },
  {
   "cell_type": "code",
   "execution_count": 51,
   "metadata": {},
   "outputs": [],
   "source": [
    "# function to calculate covariance\n",
    "def Cov(xs, ys, meanx=None, meany=None):\n",
    "    xs = np.asarray(xs)\n",
    "    ys = np.asarray(ys)\n",
    "\n",
    "    if meanx is None:\n",
    "        meanx = np.mean(xs)\n",
    "    if meany is None:\n",
    "        meany = np.mean(ys)\n",
    "\n",
    "    cov = np.dot(xs-meanx, ys-meany) / len(xs)\n",
    "    return cov"
   ]
  },
  {
   "cell_type": "code",
   "execution_count": 52,
   "metadata": {},
   "outputs": [],
   "source": [
    "# function to calculate Pearson's Correlation\n",
    "def Corr(xs, ys):\n",
    "    xs = np.asarray(xs)\n",
    "    ys = np.asarray(ys)\n",
    "\n",
    "    meanx, varx = thinkstats2.MeanVar(xs)\n",
    "    meany, vary = thinkstats2.MeanVar(ys)\n",
    "\n",
    "    corr = Cov(xs, ys, meanx, meany) / np.sqrt(varx * vary)\n",
    "    return corr"
   ]
  },
  {
   "cell_type": "code",
   "execution_count": 53,
   "metadata": {},
   "outputs": [],
   "source": [
    "# function to calculate Spearman's Rank Correlation\n",
    "def SpearmanCorr(xs, ys):\n",
    "    xranks = pd.Series(xs).rank()\n",
    "    yranks = pd.Series(ys).rank()\n",
    "    return Corr(xranks, yranks)"
   ]
  },
  {
   "cell_type": "markdown",
   "metadata": {},
   "source": [
    "### Number of children vs Exercise minutes"
   ]
  },
  {
   "cell_type": "markdown",
   "metadata": {},
   "source": [
    "#### Scatter Plot"
   ]
  },
  {
   "cell_type": "code",
   "execution_count": 54,
   "metadata": {},
   "outputs": [
    {
     "data": {
      "image/png": "[encoded data removed]",
      "text/plain": [
       "<Figure size 432x288 with 1 Axes>"
      ]
     },
     "metadata": {
      "needs_background": "light"
     },
     "output_type": "display_data"
    }
   ],
   "source": [
    "exercise = resp_ex_fem2.tuactdur24\n",
    "children = resp_ex_fem2.trchildnum\n",
    "\n",
    "exercise = Jitter(exercise, 1.4)\n",
    "children = Jitter(children, .2)\n",
    "\n",
    "thinkplot.Scatter(children, exercise, alpha=.2)\n",
    "thinkplot.Config(title='Number of children vs exercise duration', xlabel='number of children',\n",
    "                 ylabel='exercise in minutes',\n",
    "                 legend=False)"
   ]
  },
  {
   "cell_type": "markdown",
   "metadata": {},
   "source": [
    "#### Covariance"
   ]
  },
  {
   "cell_type": "code",
   "execution_count": 55,
   "metadata": {},
   "outputs": [
    {
     "data": {
      "text/plain": [
       "4.412220890771357"
      ]
     },
     "execution_count": 55,
     "metadata": {},
     "output_type": "execute_result"
    }
   ],
   "source": [
    "Cov(children, exercise)"
   ]
  },
  {
   "cell_type": "code",
   "execution_count": 56,
   "metadata": {},
   "outputs": [],
   "source": [
    "# Covariance is positive, which indicates both number of children and the duration of exercising moves together in the same\n",
    "# direction. It would imply that the more children you have, the more you exercise."
   ]
  },
  {
   "cell_type": "markdown",
   "metadata": {},
   "source": [
    "#### Pearson's Correlation"
   ]
  },
  {
   "cell_type": "code",
   "execution_count": 57,
   "metadata": {},
   "outputs": [
    {
     "data": {
      "text/plain": [
       "0.08176692456087202"
      ]
     },
     "execution_count": 57,
     "metadata": {},
     "output_type": "execute_result"
    }
   ],
   "source": [
    "Corr(children, exercise)"
   ]
  },
  {
   "cell_type": "code",
   "execution_count": 58,
   "metadata": {},
   "outputs": [],
   "source": [
    "# Pearson's correlation is positive, however since it is close to zero implies there is no correlation between the variables. "
   ]
  },
  {
   "cell_type": "markdown",
   "metadata": {},
   "source": [
    "#### Spearman's Rank Correlation"
   ]
  },
  {
   "cell_type": "code",
   "execution_count": 59,
   "metadata": {},
   "outputs": [
    {
     "data": {
      "text/plain": [
       "0.07644053044884747"
      ]
     },
     "execution_count": 59,
     "metadata": {},
     "output_type": "execute_result"
    }
   ],
   "source": [
    "SpearmanCorr(children, exercise)"
   ]
  },
  {
   "cell_type": "code",
   "execution_count": 60,
   "metadata": {},
   "outputs": [],
   "source": [
    "# Spearman's rank correlation should be used since the scatter plot implies it is non linear.\n",
    "# The Spearman's rank correlation is very close to zero, which indicates there is no relationship between number of children \n",
    "# and time spent exercising."
   ]
  },
  {
   "cell_type": "markdown",
   "metadata": {},
   "source": [
    "### Number of hours work vs Exercise duration"
   ]
  },
  {
   "cell_type": "markdown",
   "metadata": {},
   "source": [
    "#### Scatter Plot"
   ]
  },
  {
   "cell_type": "code",
   "execution_count": 61,
   "metadata": {
    "scrolled": true
   },
   "outputs": [
    {
     "data": {
      "image/png": "[encoded data removed]",
      "text/plain": [
       "<Figure size 432x288 with 1 Axes>"
      ]
     },
     "metadata": {
      "needs_background": "light"
     },
     "output_type": "display_data"
    }
   ],
   "source": [
    "work = resp_ex_fem2[resp_ex_fem2.tehruslt > -4] #filter out where hours vary\n",
    "\n",
    "work2 = work.tehruslt\n",
    "exercise2 = work.tuactdur24\n",
    "\n",
    "work2 = Jitter(work2, .5)\n",
    "\n",
    "thinkplot.Scatter(work2, exercise2, alpha=.2)\n",
    "thinkplot.Config(title='Regular weekly hours worked vs exercise duration', xlabel='hours worked',\n",
    "                 ylabel='exercise in minutes',\n",
    "                 legend=False)"
   ]
  },
  {
   "cell_type": "markdown",
   "metadata": {},
   "source": [
    "#### Covariance"
   ]
  },
  {
   "cell_type": "code",
   "execution_count": 62,
   "metadata": {},
   "outputs": [
    {
     "data": {
      "text/plain": [
       "-8.034950496053037"
      ]
     },
     "execution_count": 62,
     "metadata": {},
     "output_type": "execute_result"
    }
   ],
   "source": [
    "Cov(work2, exercise2)"
   ]
  },
  {
   "cell_type": "code",
   "execution_count": 63,
   "metadata": {},
   "outputs": [],
   "source": [
    "# Negative covariance between regular hours worked and exercise means they move inversely. The more hours worked, the less\n",
    "# minutes exercised"
   ]
  },
  {
   "cell_type": "markdown",
   "metadata": {},
   "source": [
    "#### Pearson's Correlation"
   ]
  },
  {
   "cell_type": "code",
   "execution_count": 64,
   "metadata": {},
   "outputs": [
    {
     "data": {
      "text/plain": [
       "-0.008161102244907752"
      ]
     },
     "execution_count": 64,
     "metadata": {},
     "output_type": "execute_result"
    }
   ],
   "source": [
    "Corr(work2, exercise2)"
   ]
  },
  {
   "cell_type": "code",
   "execution_count": 65,
   "metadata": {},
   "outputs": [],
   "source": [
    "# Pearson's correlation is negative, however, since it is very close to zero it implies there is no relationship between the\n",
    "# variables."
   ]
  },
  {
   "cell_type": "markdown",
   "metadata": {},
   "source": [
    "#### Spearman's Rank Correlation"
   ]
  },
  {
   "cell_type": "code",
   "execution_count": 66,
   "metadata": {},
   "outputs": [
    {
     "data": {
      "text/plain": [
       "0.006958422871847362"
      ]
     },
     "execution_count": 66,
     "metadata": {},
     "output_type": "execute_result"
    }
   ],
   "source": [
    "SpearmanCorr(work2, exercise2)"
   ]
  },
  {
   "cell_type": "code",
   "execution_count": 67,
   "metadata": {},
   "outputs": [],
   "source": [
    "# Spearman's rank correlation should be used since the scatter plot reflects it is non linear.\n",
    "# Spearman's rank correlation is very close to zero which implies there is no relationship between the variables."
   ]
  },
  {
   "cell_type": "markdown",
   "metadata": {},
   "source": [
    "### Age vs Exercise duration"
   ]
  },
  {
   "cell_type": "markdown",
   "metadata": {},
   "source": [
    "#### Scatter Plot"
   ]
  },
  {
   "cell_type": "code",
   "execution_count": 68,
   "metadata": {},
   "outputs": [
    {
     "data": {
      "image/png": "[encoded data removed]",
      "text/plain": [
       "<Figure size 432x288 with 1 Axes>"
      ]
     },
     "metadata": {
      "needs_background": "light"
     },
     "output_type": "display_data"
    }
   ],
   "source": [
    "age = resp_ex_fem2.teage \n",
    "age = Jitter(age, .5)\n",
    "\n",
    "thinkplot.Scatter(age, exercise, alpha=.2)\n",
    "thinkplot.Config(title='Age vs Exercise duration', xlabel='age',\n",
    "                 ylabel='exercise in minutes',\n",
    "                 legend=False)"
   ]
  },
  {
   "cell_type": "markdown",
   "metadata": {},
   "source": [
    "#### Covariance"
   ]
  },
  {
   "cell_type": "code",
   "execution_count": 69,
   "metadata": {},
   "outputs": [
    {
     "data": {
      "text/plain": [
       "-160.5926923935532"
      ]
     },
     "execution_count": 69,
     "metadata": {},
     "output_type": "execute_result"
    }
   ],
   "source": [
    "Cov(age, exercise)"
   ]
  },
  {
   "cell_type": "code",
   "execution_count": 70,
   "metadata": {},
   "outputs": [],
   "source": [
    "# Negtative covariance between age and exercise duration means they move inversely. As one increases the other decreases."
   ]
  },
  {
   "cell_type": "markdown",
   "metadata": {},
   "source": [
    "#### Pearson's Correlation"
   ]
  },
  {
   "cell_type": "code",
   "execution_count": 71,
   "metadata": {},
   "outputs": [
    {
     "data": {
      "text/plain": [
       "-0.1893308320028366"
      ]
     },
     "execution_count": 71,
     "metadata": {},
     "output_type": "execute_result"
    }
   ],
   "source": [
    "Corr(age, exercise)"
   ]
  },
  {
   "cell_type": "code",
   "execution_count": 72,
   "metadata": {},
   "outputs": [],
   "source": [
    "# Pearson's correlation is negative, but close to zero, which implies theres no relationship between the two."
   ]
  },
  {
   "cell_type": "markdown",
   "metadata": {},
   "source": [
    "#### Spearman's Rank Correlation"
   ]
  },
  {
   "cell_type": "code",
   "execution_count": 73,
   "metadata": {},
   "outputs": [
    {
     "data": {
      "text/plain": [
       "-0.18983264098577954"
      ]
     },
     "execution_count": 73,
     "metadata": {},
     "output_type": "execute_result"
    }
   ],
   "source": [
    "SpearmanCorr(age, exercise)"
   ]
  },
  {
   "cell_type": "code",
   "execution_count": 74,
   "metadata": {},
   "outputs": [],
   "source": [
    "# Spearman's Rank correlation is negative, but close to zero, which imples there is no relationship between the two."
   ]
  },
  {
   "cell_type": "markdown",
   "metadata": {},
   "source": [
    "# Hypothesis Test"
   ]
  },
  {
   "cell_type": "code",
   "execution_count": 75,
   "metadata": {},
   "outputs": [],
   "source": [
    "class HypothesisTest(object):\n",
    "\n",
    "    def __init__(self, data):\n",
    "        self.data = data\n",
    "        self.MakeModel()\n",
    "        self.actual = self.TestStatistic(data)\n",
    "\n",
    "    def PValue(self, iters=1000):\n",
    "        self.test_stats = [self.TestStatistic(self.RunModel()) \n",
    "                           for _ in range(iters)]\n",
    "\n",
    "        count = sum(1 for x in self.test_stats if x >= self.actual)\n",
    "        return count / iters\n",
    "\n",
    "    def TestStatistic(self, data):\n",
    "        raise UnimplementedMethodException()\n",
    "\n",
    "    def MakeModel(self):\n",
    "        pass\n",
    "\n",
    "    def RunModel(self):\n",
    "        raise UnimplementedMethodException()"
   ]
  },
  {
   "cell_type": "code",
   "execution_count": 76,
   "metadata": {},
   "outputs": [],
   "source": [
    "class DiffMeansPermute(thinkstats2.HypothesisTest):\n",
    "\n",
    "    def TestStatistic(self, data):\n",
    "        group1, group2 = data\n",
    "        test_stat = abs(group1.mean() - group2.mean())\n",
    "        return test_stat\n",
    "\n",
    "    def MakeModel(self):\n",
    "        group1, group2 = self.data\n",
    "        self.n, self.m = len(group1), len(group2)\n",
    "        self.pool = np.hstack((group1, group2))\n",
    "\n",
    "    def RunModel(self):\n",
    "        np.random.shuffle(self.pool)\n",
    "        data = self.pool[:self.n], self.pool[self.n:]\n",
    "        return data"
   ]
  },
  {
   "cell_type": "markdown",
   "metadata": {},
   "source": [
    "#### Permutation Test"
   ]
  },
  {
   "cell_type": "code",
   "execution_count": 77,
   "metadata": {},
   "outputs": [
    {
     "data": {
      "text/plain": [
       "0.0"
      ]
     },
     "execution_count": 77,
     "metadata": {},
     "output_type": "execute_result"
    }
   ],
   "source": [
    "# permutation difference of means\n",
    "# modeling the null hypothesis\n",
    "data = fem_child.tuactdur24, fem_nochild.tuactdur24\n",
    "hyp_test1 = DiffMeansPermute(data)\n",
    "pvalue = hyp_test1.PValue()\n",
    "pvalue"
   ]
  },
  {
   "cell_type": "code",
   "execution_count": 78,
   "metadata": {},
   "outputs": [],
   "source": [
    "# p-value is less than 1, which indicates it is statistically significant. It is unlikely due to chance."
   ]
  },
  {
   "cell_type": "code",
   "execution_count": 79,
   "metadata": {},
   "outputs": [
    {
     "data": {
      "image/png": "[encoded data removed]",
      "text/plain": [
       "<Figure size 432x288 with 1 Axes>"
      ]
     },
     "metadata": {
      "needs_background": "light"
     },
     "output_type": "display_data"
    }
   ],
   "source": [
    "hyp_test1.PlotCdf()\n",
    "thinkplot.Config(title='Permutation test', xlabel='test statistic',\n",
    "                   ylabel='CDF')"
   ]
  },
  {
   "cell_type": "markdown",
   "metadata": {},
   "source": [
    "#### False Negative Test"
   ]
  },
  {
   "cell_type": "code",
   "execution_count": 80,
   "metadata": {},
   "outputs": [],
   "source": [
    "def FalseNegRate(data, num_runs=1000):\n",
    "    \"\"\"Computes the chance of a false negative based on resampling.\n",
    "\n",
    "    data: pair of sequences\n",
    "    num_runs: how many experiments to simulate\n",
    "\n",
    "    returns: float false negative rate\n",
    "    \"\"\"\n",
    "    group1, group2 = data\n",
    "    count = 0\n",
    "\n",
    "    for i in range(num_runs):\n",
    "        sample1 = thinkstats2.Resample(group1)\n",
    "        sample2 = thinkstats2.Resample(group2)\n",
    "        ht = DiffMeansPermute((sample1, sample2))\n",
    "        p_value = ht.PValue(iters=101)\n",
    "        if p_value > 0.05:\n",
    "            count += 1\n",
    "\n",
    "    return count / num_runs"
   ]
  },
  {
   "cell_type": "code",
   "execution_count": 81,
   "metadata": {},
   "outputs": [
    {
     "data": {
      "text/plain": [
       "0.0"
      ]
     },
     "execution_count": 81,
     "metadata": {},
     "output_type": "execute_result"
    }
   ],
   "source": [
    "# test how many times the real effect will fail\n",
    "neg_rate = FalseNegRate(data)\n",
    "neg_rate"
   ]
  },
  {
   "cell_type": "code",
   "execution_count": 82,
   "metadata": {},
   "outputs": [],
   "source": [
    "# after drawing random samples from each group, the false negative test returns a false negative 0% of the time. "
   ]
  },
  {
   "cell_type": "markdown",
   "metadata": {},
   "source": [
    "# Regression Analysis"
   ]
  },
  {
   "cell_type": "markdown",
   "metadata": {},
   "source": [
    "### Linear Least Squares"
   ]
  },
  {
   "cell_type": "code",
   "execution_count": 83,
   "metadata": {},
   "outputs": [],
   "source": [
    "from thinkstats2 import Mean, MeanVar, Var, Std, Cov\n",
    "\n",
    "def LeastSquares(xs, ys):\n",
    "    meanx, varx = MeanVar(xs)\n",
    "    meany = Mean(ys)\n",
    "\n",
    "    slope = Cov(xs, ys, meanx, meany) / varx\n",
    "    inter = meany - slope * meanx\n",
    "\n",
    "    return inter, slope\n",
    "\n",
    "def FitLine(xs, inter, slope):\n",
    "    fit_xs = np.sort(xs)\n",
    "    fit_ys = inter + slope * fit_xs\n",
    "    return fit_xs, fit_ys\n",
    "\n",
    "def CoefDetermination(ys, res):\n",
    "    return 1 - Var(res) / Var(ys)\n",
    "\n",
    "def Residuals(xs, ys, inter, slope):\n",
    "    xs = np.asarray(xs)\n",
    "    ys = np.asarray(ys)\n",
    "    res = ys - (inter + slope * xs)\n",
    "    return res"
   ]
  },
  {
   "cell_type": "code",
   "execution_count": 84,
   "metadata": {},
   "outputs": [],
   "source": [
    "age = resp_ex_fem2.teage\n",
    "duration = resp_ex_fem2.tuactdur24"
   ]
  },
  {
   "cell_type": "code",
   "execution_count": 85,
   "metadata": {},
   "outputs": [],
   "source": [
    "inter, slope = thinkstats2.LeastSquares(age, duration)\n",
    "fit_xs, fit_ys = thinkstats2.FitLine(age, inter, slope)"
   ]
  },
  {
   "cell_type": "code",
   "execution_count": 86,
   "metadata": {},
   "outputs": [
    {
     "data": {
      "image/png": "[encoded data removed]",
      "text/plain": [
       "<Figure size 432x288 with 1 Axes>"
      ]
     },
     "metadata": {
      "needs_background": "light"
     },
     "output_type": "display_data"
    }
   ],
   "source": [
    "thinkplot.Scatter(age, duration, color='blue', alpha=0.1, s=10)\n",
    "thinkplot.Plot(fit_xs, fit_ys, color='white', linewidth=3)\n",
    "thinkplot.Plot(fit_xs, fit_ys, color='red', linewidth=2)\n",
    "thinkplot.Config(title='Linear regression: Age vs Exercise duration', xlabel=\"age (years)\",\n",
    "                 ylabel='exercise duration (minutes)',\n",
    "                 legend=False)"
   ]
  },
  {
   "cell_type": "code",
   "execution_count": 87,
   "metadata": {},
   "outputs": [
    {
     "data": {
      "text/plain": [
       "0.03584979068777738"
      ]
     },
     "execution_count": 87,
     "metadata": {},
     "output_type": "execute_result"
    }
   ],
   "source": [
    "res = Residuals(age, duration, inter, slope)\n",
    "r2 = CoefDetermination(duration, res)\n",
    "r2"
   ]
  },
  {
   "cell_type": "code",
   "execution_count": 88,
   "metadata": {},
   "outputs": [],
   "source": [
    "# age accounts for 3.6% of exercise duration"
   ]
  },
  {
   "cell_type": "markdown",
   "metadata": {},
   "source": [
    "### Simple Regression"
   ]
  },
  {
   "cell_type": "markdown",
   "metadata": {},
   "source": [
    "#### Exercise duration as a function of age"
   ]
  },
  {
   "cell_type": "code",
   "execution_count": 89,
   "metadata": {},
   "outputs": [],
   "source": [
    "formula = 'tuactdur24 ~ teage'\n",
    "model = smf.ols(formula, data = resp_ex_fem2)\n",
    "results = model.fit()"
   ]
  },
  {
   "cell_type": "code",
   "execution_count": 90,
   "metadata": {},
   "outputs": [
    {
     "name": "stdout",
     "output_type": "stream",
     "text": [
      "                            OLS Regression Results                            \n",
      "==============================================================================\n",
      "Dep. Variable:             tuactdur24   R-squared:                       0.036\n",
      "Model:                            OLS   Adj. R-squared:                  0.036\n",
      "Method:                 Least Squares   F-statistic:                     509.3\n",
      "Date:                Mon, 24 Feb 2020   Prob (F-statistic):          9.17e-111\n",
      "Time:                        20:31:00   Log-Likelihood:                -71903.\n",
      "No. Observations:               13700   AIC:                         1.438e+05\n",
      "Df Residuals:                   13698   BIC:                         1.438e+05\n",
      "Df Model:                           1                                         \n",
      "Covariance Type:            nonrobust                                         \n",
      "==============================================================================\n",
      "                 coef    std err          t      P>|t|      [0.025      0.975]\n",
      "------------------------------------------------------------------------------\n",
      "Intercept     91.5744      1.095     83.613      0.000      89.428      93.721\n",
      "teage         -0.4913      0.022    -22.568      0.000      -0.534      -0.449\n",
      "==============================================================================\n",
      "Omnibus:                     3182.057   Durbin-Watson:                   1.999\n",
      "Prob(Omnibus):                  0.000   Jarque-Bera (JB):             6527.426\n",
      "Skew:                           1.381   Prob(JB):                         0.00\n",
      "Kurtosis:                       4.950   Cond. No.                         140.\n",
      "==============================================================================\n",
      "\n",
      "Warnings:\n",
      "[1] Standard Errors assume that the covariance matrix of the errors is correctly specified.\n"
     ]
    }
   ],
   "source": [
    "print(results.summary())"
   ]
  },
  {
   "cell_type": "code",
   "execution_count": 91,
   "metadata": {},
   "outputs": [],
   "source": [
    "# R^2 is 3.6% which is the same from the coeficient of determination of the linear least squares test"
   ]
  },
  {
   "cell_type": "markdown",
   "metadata": {},
   "source": [
    "#### Exercise duration as a function of having children"
   ]
  },
  {
   "cell_type": "code",
   "execution_count": 92,
   "metadata": {},
   "outputs": [
    {
     "name": "stderr",
     "output_type": "stream",
     "text": [
      "C:\\Users\\Torrey\\Anaconda3\\lib\\site-packages\\ipykernel_launcher.py:2: SettingWithCopyWarning: \n",
      "A value is trying to be set on a copy of a slice from a DataFrame.\n",
      "Try using .loc[row_indexer,col_indexer] = value instead\n",
      "\n",
      "See the caveats in the documentation: http://pandas.pydata.org/pandas-docs/stable/user_guide/indexing.html#returning-a-view-versus-a-copy\n",
      "  \n"
     ]
    }
   ],
   "source": [
    "# creating boolean for child or no child\n",
    "resp_ex_fem2['haschild'] = resp_ex_fem2.trchildnum > 0"
   ]
  },
  {
   "cell_type": "code",
   "execution_count": 93,
   "metadata": {},
   "outputs": [
    {
     "data": {
      "text/html": [
       "<table class=\"simpletable\">\n",
       "<caption>OLS Regression Results</caption>\n",
       "<tr>\n",
       "  <th>Dep. Variable:</th>       <td>tuactdur24</td>    <th>  R-squared:         </th> <td>   0.009</td> \n",
       "</tr>\n",
       "<tr>\n",
       "  <th>Model:</th>                   <td>OLS</td>       <th>  Adj. R-squared:    </th> <td>   0.009</td> \n",
       "</tr>\n",
       "<tr>\n",
       "  <th>Method:</th>             <td>Least Squares</td>  <th>  F-statistic:       </th> <td>   126.0</td> \n",
       "</tr>\n",
       "<tr>\n",
       "  <th>Date:</th>             <td>Mon, 24 Feb 2020</td> <th>  Prob (F-statistic):</th> <td>4.04e-29</td> \n",
       "</tr>\n",
       "<tr>\n",
       "  <th>Time:</th>                 <td>20:31:00</td>     <th>  Log-Likelihood:    </th> <td> -72090.</td> \n",
       "</tr>\n",
       "<tr>\n",
       "  <th>No. Observations:</th>      <td> 13700</td>      <th>  AIC:               </th> <td>1.442e+05</td>\n",
       "</tr>\n",
       "<tr>\n",
       "  <th>Df Residuals:</th>          <td> 13698</td>      <th>  BIC:               </th> <td>1.442e+05</td>\n",
       "</tr>\n",
       "<tr>\n",
       "  <th>Df Model:</th>              <td>     1</td>      <th>                     </th>     <td> </td>    \n",
       "</tr>\n",
       "<tr>\n",
       "  <th>Covariance Type:</th>      <td>nonrobust</td>    <th>                     </th>     <td> </td>    \n",
       "</tr>\n",
       "</table>\n",
       "<table class=\"simpletable\">\n",
       "<tr>\n",
       "          <td></td>            <th>coef</th>     <th>std err</th>      <th>t</th>      <th>P>|t|</th>  <th>[0.025</th>    <th>0.975]</th>  \n",
       "</tr>\n",
       "<tr>\n",
       "  <th>Intercept</th>        <td>   64.3629</td> <td>    0.543</td> <td>  118.456</td> <td> 0.000</td> <td>   63.298</td> <td>   65.428</td>\n",
       "</tr>\n",
       "<tr>\n",
       "  <th>haschild[T.True]</th> <td>    8.9805</td> <td>    0.800</td> <td>   11.227</td> <td> 0.000</td> <td>    7.413</td> <td>   10.548</td>\n",
       "</tr>\n",
       "</table>\n",
       "<table class=\"simpletable\">\n",
       "<tr>\n",
       "  <th>Omnibus:</th>       <td>3193.379</td> <th>  Durbin-Watson:     </th> <td>   1.997</td>\n",
       "</tr>\n",
       "<tr>\n",
       "  <th>Prob(Omnibus):</th>  <td> 0.000</td>  <th>  Jarque-Bera (JB):  </th> <td>6469.184</td>\n",
       "</tr>\n",
       "<tr>\n",
       "  <th>Skew:</th>           <td> 1.396</td>  <th>  Prob(JB):          </th> <td>    0.00</td>\n",
       "</tr>\n",
       "<tr>\n",
       "  <th>Kurtosis:</th>       <td> 4.880</td>  <th>  Cond. No.          </th> <td>    2.54</td>\n",
       "</tr>\n",
       "</table><br/><br/>Warnings:<br/>[1] Standard Errors assume that the covariance matrix of the errors is correctly specified."
      ],
      "text/plain": [
       "<class 'statsmodels.iolib.summary.Summary'>\n",
       "\"\"\"\n",
       "                            OLS Regression Results                            \n",
       "==============================================================================\n",
       "Dep. Variable:             tuactdur24   R-squared:                       0.009\n",
       "Model:                            OLS   Adj. R-squared:                  0.009\n",
       "Method:                 Least Squares   F-statistic:                     126.0\n",
       "Date:                Mon, 24 Feb 2020   Prob (F-statistic):           4.04e-29\n",
       "Time:                        20:31:00   Log-Likelihood:                -72090.\n",
       "No. Observations:               13700   AIC:                         1.442e+05\n",
       "Df Residuals:                   13698   BIC:                         1.442e+05\n",
       "Df Model:                           1                                         \n",
       "Covariance Type:            nonrobust                                         \n",
       "====================================================================================\n",
       "                       coef    std err          t      P>|t|      [0.025      0.975]\n",
       "------------------------------------------------------------------------------------\n",
       "Intercept           64.3629      0.543    118.456      0.000      63.298      65.428\n",
       "haschild[T.True]     8.9805      0.800     11.227      0.000       7.413      10.548\n",
       "==============================================================================\n",
       "Omnibus:                     3193.379   Durbin-Watson:                   1.997\n",
       "Prob(Omnibus):                  0.000   Jarque-Bera (JB):             6469.184\n",
       "Skew:                           1.396   Prob(JB):                         0.00\n",
       "Kurtosis:                       4.880   Cond. No.                         2.54\n",
       "==============================================================================\n",
       "\n",
       "Warnings:\n",
       "[1] Standard Errors assume that the covariance matrix of the errors is correctly specified.\n",
       "\"\"\""
      ]
     },
     "execution_count": 93,
     "metadata": {},
     "output_type": "execute_result"
    }
   ],
   "source": [
    "# exercise duration as a function of having children\n",
    "formula = 'tuactdur24 ~ haschild'\n",
    "model = smf.ols(formula, data=resp_ex_fem2)\n",
    "results = model.fit()\n",
    "results.summary()"
   ]
  },
  {
   "cell_type": "code",
   "execution_count": 94,
   "metadata": {},
   "outputs": [],
   "source": [
    "# p-value for the y-intercept and the slope are 0. It is likely to not occure by chance that there is a difference between\n",
    "# women who have children and do not have children and the duration that they exercise.\n",
    "\n",
    "# R^2 is 0.009 or .9%. The R^2 value means that having children is not the only thing that accounts for the difference in\n",
    "# exercise duration between the two groups."
   ]
  },
  {
   "cell_type": "markdown",
   "metadata": {},
   "source": [
    "### Multiple Regression"
   ]
  },
  {
   "cell_type": "markdown",
   "metadata": {},
   "source": [
    "#### Exercise duration as a function of having children and female age"
   ]
  },
  {
   "cell_type": "code",
   "execution_count": 95,
   "metadata": {},
   "outputs": [
    {
     "data": {
      "text/html": [
       "<table class=\"simpletable\">\n",
       "<caption>OLS Regression Results</caption>\n",
       "<tr>\n",
       "  <th>Dep. Variable:</th>       <td>tuactdur24</td>    <th>  R-squared:         </th> <td>   0.036</td> \n",
       "</tr>\n",
       "<tr>\n",
       "  <th>Model:</th>                   <td>OLS</td>       <th>  Adj. R-squared:    </th> <td>   0.036</td> \n",
       "</tr>\n",
       "<tr>\n",
       "  <th>Method:</th>             <td>Least Squares</td>  <th>  F-statistic:       </th> <td>   255.7</td> \n",
       "</tr>\n",
       "<tr>\n",
       "  <th>Date:</th>             <td>Mon, 24 Feb 2020</td> <th>  Prob (F-statistic):</th> <td>9.04e-110</td>\n",
       "</tr>\n",
       "<tr>\n",
       "  <th>Time:</th>                 <td>20:31:00</td>     <th>  Log-Likelihood:    </th> <td> -71902.</td> \n",
       "</tr>\n",
       "<tr>\n",
       "  <th>No. Observations:</th>      <td> 13700</td>      <th>  AIC:               </th> <td>1.438e+05</td>\n",
       "</tr>\n",
       "<tr>\n",
       "  <th>Df Residuals:</th>          <td> 13697</td>      <th>  BIC:               </th> <td>1.438e+05</td>\n",
       "</tr>\n",
       "<tr>\n",
       "  <th>Df Model:</th>              <td>     2</td>      <th>                     </th>     <td> </td>    \n",
       "</tr>\n",
       "<tr>\n",
       "  <th>Covariance Type:</th>      <td>nonrobust</td>    <th>                     </th>     <td> </td>    \n",
       "</tr>\n",
       "</table>\n",
       "<table class=\"simpletable\">\n",
       "<tr>\n",
       "          <td></td>            <th>coef</th>     <th>std err</th>      <th>t</th>      <th>P>|t|</th>  <th>[0.025</th>    <th>0.975]</th>  \n",
       "</tr>\n",
       "<tr>\n",
       "  <th>Intercept</th>        <td>   93.2104</td> <td>    1.570</td> <td>   59.356</td> <td> 0.000</td> <td>   90.132</td> <td>   96.289</td>\n",
       "</tr>\n",
       "<tr>\n",
       "  <th>haschild[T.True]</th> <td>   -1.3818</td> <td>    0.951</td> <td>   -1.454</td> <td> 0.146</td> <td>   -3.245</td> <td>    0.482</td>\n",
       "</tr>\n",
       "<tr>\n",
       "  <th>teage</th>            <td>   -0.5125</td> <td>    0.026</td> <td>  -19.543</td> <td> 0.000</td> <td>   -0.564</td> <td>   -0.461</td>\n",
       "</tr>\n",
       "</table>\n",
       "<table class=\"simpletable\">\n",
       "<tr>\n",
       "  <th>Omnibus:</th>       <td>3183.238</td> <th>  Durbin-Watson:     </th> <td>   1.999</td>\n",
       "</tr>\n",
       "<tr>\n",
       "  <th>Prob(Omnibus):</th>  <td> 0.000</td>  <th>  Jarque-Bera (JB):  </th> <td>6532.242</td>\n",
       "</tr>\n",
       "<tr>\n",
       "  <th>Skew:</th>           <td> 1.382</td>  <th>  Prob(JB):          </th> <td>    0.00</td>\n",
       "</tr>\n",
       "<tr>\n",
       "  <th>Kurtosis:</th>       <td> 4.951</td>  <th>  Cond. No.          </th> <td>    222.</td>\n",
       "</tr>\n",
       "</table><br/><br/>Warnings:<br/>[1] Standard Errors assume that the covariance matrix of the errors is correctly specified."
      ],
      "text/plain": [
       "<class 'statsmodels.iolib.summary.Summary'>\n",
       "\"\"\"\n",
       "                            OLS Regression Results                            \n",
       "==============================================================================\n",
       "Dep. Variable:             tuactdur24   R-squared:                       0.036\n",
       "Model:                            OLS   Adj. R-squared:                  0.036\n",
       "Method:                 Least Squares   F-statistic:                     255.7\n",
       "Date:                Mon, 24 Feb 2020   Prob (F-statistic):          9.04e-110\n",
       "Time:                        20:31:00   Log-Likelihood:                -71902.\n",
       "No. Observations:               13700   AIC:                         1.438e+05\n",
       "Df Residuals:                   13697   BIC:                         1.438e+05\n",
       "Df Model:                           2                                         \n",
       "Covariance Type:            nonrobust                                         \n",
       "====================================================================================\n",
       "                       coef    std err          t      P>|t|      [0.025      0.975]\n",
       "------------------------------------------------------------------------------------\n",
       "Intercept           93.2104      1.570     59.356      0.000      90.132      96.289\n",
       "haschild[T.True]    -1.3818      0.951     -1.454      0.146      -3.245       0.482\n",
       "teage               -0.5125      0.026    -19.543      0.000      -0.564      -0.461\n",
       "==============================================================================\n",
       "Omnibus:                     3183.238   Durbin-Watson:                   1.999\n",
       "Prob(Omnibus):                  0.000   Jarque-Bera (JB):             6532.242\n",
       "Skew:                           1.382   Prob(JB):                         0.00\n",
       "Kurtosis:                       4.951   Cond. No.                         222.\n",
       "==============================================================================\n",
       "\n",
       "Warnings:\n",
       "[1] Standard Errors assume that the covariance matrix of the errors is correctly specified.\n",
       "\"\"\""
      ]
     },
     "execution_count": 95,
     "metadata": {},
     "output_type": "execute_result"
    }
   ],
   "source": [
    "formula = 'tuactdur24 ~ haschild + teage'\n",
    "model = smf.ols(formula, data=resp_ex_fem2)\n",
    "results = model.fit()\n",
    "results.summary()"
   ]
  },
  {
   "cell_type": "code",
   "execution_count": 96,
   "metadata": {},
   "outputs": [],
   "source": [
    "# r^2 has improved to 3.6% accountability when adding age with having children. \n",
    "# p-value of having children increases to 0.146. This is greater than .05, is not statisically significant. \n",
    "# it leads to determine a failure to reject the null hypothesis when age is added."
   ]
  },
  {
   "cell_type": "markdown",
   "metadata": {},
   "source": [
    "#### Exercise duration as a function of having children, age, hours work per week for self and for spouse"
   ]
  },
  {
   "cell_type": "code",
   "execution_count": 97,
   "metadata": {},
   "outputs": [
    {
     "data": {
      "text/html": [
       "<table class=\"simpletable\">\n",
       "<caption>OLS Regression Results</caption>\n",
       "<tr>\n",
       "  <th>Dep. Variable:</th>       <td>tuactdur24</td>    <th>  R-squared:         </th> <td>   0.041</td> \n",
       "</tr>\n",
       "<tr>\n",
       "  <th>Model:</th>                   <td>OLS</td>       <th>  Adj. R-squared:    </th> <td>   0.040</td> \n",
       "</tr>\n",
       "<tr>\n",
       "  <th>Method:</th>             <td>Least Squares</td>  <th>  F-statistic:       </th> <td>   145.2</td> \n",
       "</tr>\n",
       "<tr>\n",
       "  <th>Date:</th>             <td>Mon, 24 Feb 2020</td> <th>  Prob (F-statistic):</th> <td>8.94e-122</td>\n",
       "</tr>\n",
       "<tr>\n",
       "  <th>Time:</th>                 <td>20:31:00</td>     <th>  Log-Likelihood:    </th> <td> -71869.</td> \n",
       "</tr>\n",
       "<tr>\n",
       "  <th>No. Observations:</th>      <td> 13700</td>      <th>  AIC:               </th> <td>1.437e+05</td>\n",
       "</tr>\n",
       "<tr>\n",
       "  <th>Df Residuals:</th>          <td> 13695</td>      <th>  BIC:               </th> <td>1.438e+05</td>\n",
       "</tr>\n",
       "<tr>\n",
       "  <th>Df Model:</th>              <td>     4</td>      <th>                     </th>     <td> </td>    \n",
       "</tr>\n",
       "<tr>\n",
       "  <th>Covariance Type:</th>      <td>nonrobust</td>    <th>                     </th>     <td> </td>    \n",
       "</tr>\n",
       "</table>\n",
       "<table class=\"simpletable\">\n",
       "<tr>\n",
       "          <td></td>            <th>coef</th>     <th>std err</th>      <th>t</th>      <th>P>|t|</th>  <th>[0.025</th>    <th>0.975]</th>  \n",
       "</tr>\n",
       "<tr>\n",
       "  <th>Intercept</th>        <td>   98.6877</td> <td>    1.737</td> <td>   56.819</td> <td> 0.000</td> <td>   95.283</td> <td>  102.092</td>\n",
       "</tr>\n",
       "<tr>\n",
       "  <th>haschild[T.True]</th> <td>   -0.7099</td> <td>    1.002</td> <td>   -0.708</td> <td> 0.479</td> <td>   -2.674</td> <td>    1.255</td>\n",
       "</tr>\n",
       "<tr>\n",
       "  <th>teage</th>            <td>   -0.5578</td> <td>    0.027</td> <td>  -20.605</td> <td> 0.000</td> <td>   -0.611</td> <td>   -0.505</td>\n",
       "</tr>\n",
       "<tr>\n",
       "  <th>tehruslt</th>         <td>   -0.1176</td> <td>    0.020</td> <td>   -6.028</td> <td> 0.000</td> <td>   -0.156</td> <td>   -0.079</td>\n",
       "</tr>\n",
       "<tr>\n",
       "  <th>tespuhrs</th>         <td>   -0.0820</td> <td>    0.018</td> <td>   -4.586</td> <td> 0.000</td> <td>   -0.117</td> <td>   -0.047</td>\n",
       "</tr>\n",
       "</table>\n",
       "<table class=\"simpletable\">\n",
       "<tr>\n",
       "  <th>Omnibus:</th>       <td>3163.839</td> <th>  Durbin-Watson:     </th> <td>   1.997</td>\n",
       "</tr>\n",
       "<tr>\n",
       "  <th>Prob(Omnibus):</th>  <td> 0.000</td>  <th>  Jarque-Bera (JB):  </th> <td>6503.445</td>\n",
       "</tr>\n",
       "<tr>\n",
       "  <th>Skew:</th>           <td> 1.372</td>  <th>  Prob(JB):          </th> <td>    0.00</td>\n",
       "</tr>\n",
       "<tr>\n",
       "  <th>Kurtosis:</th>       <td> 4.967</td>  <th>  Cond. No.          </th> <td>    268.</td>\n",
       "</tr>\n",
       "</table><br/><br/>Warnings:<br/>[1] Standard Errors assume that the covariance matrix of the errors is correctly specified."
      ],
      "text/plain": [
       "<class 'statsmodels.iolib.summary.Summary'>\n",
       "\"\"\"\n",
       "                            OLS Regression Results                            \n",
       "==============================================================================\n",
       "Dep. Variable:             tuactdur24   R-squared:                       0.041\n",
       "Model:                            OLS   Adj. R-squared:                  0.040\n",
       "Method:                 Least Squares   F-statistic:                     145.2\n",
       "Date:                Mon, 24 Feb 2020   Prob (F-statistic):          8.94e-122\n",
       "Time:                        20:31:00   Log-Likelihood:                -71869.\n",
       "No. Observations:               13700   AIC:                         1.437e+05\n",
       "Df Residuals:                   13695   BIC:                         1.438e+05\n",
       "Df Model:                           4                                         \n",
       "Covariance Type:            nonrobust                                         \n",
       "====================================================================================\n",
       "                       coef    std err          t      P>|t|      [0.025      0.975]\n",
       "------------------------------------------------------------------------------------\n",
       "Intercept           98.6877      1.737     56.819      0.000      95.283     102.092\n",
       "haschild[T.True]    -0.7099      1.002     -0.708      0.479      -2.674       1.255\n",
       "teage               -0.5578      0.027    -20.605      0.000      -0.611      -0.505\n",
       "tehruslt            -0.1176      0.020     -6.028      0.000      -0.156      -0.079\n",
       "tespuhrs            -0.0820      0.018     -4.586      0.000      -0.117      -0.047\n",
       "==============================================================================\n",
       "Omnibus:                     3163.839   Durbin-Watson:                   1.997\n",
       "Prob(Omnibus):                  0.000   Jarque-Bera (JB):             6503.445\n",
       "Skew:                           1.372   Prob(JB):                         0.00\n",
       "Kurtosis:                       4.967   Cond. No.                         268.\n",
       "==============================================================================\n",
       "\n",
       "Warnings:\n",
       "[1] Standard Errors assume that the covariance matrix of the errors is correctly specified.\n",
       "\"\"\""
      ]
     },
     "execution_count": 97,
     "metadata": {},
     "output_type": "execute_result"
    }
   ],
   "source": [
    "formula = 'tuactdur24 ~ haschild + teage + tehruslt + tespuhrs'\n",
    "model = smf.ols(formula, data=resp_ex_fem2)\n",
    "results = model.fit()\n",
    "results.summary()"
   ]
  },
  {
   "cell_type": "code",
   "execution_count": 98,
   "metadata": {},
   "outputs": [],
   "source": [
    "# children, age, hours worked, and spouses hours worked only accounts for 4.1% of how much women exercise\n",
    "# p-value for having children is greater than .05 (0.479). This is not statistically significant and will rejct the null\n",
    "# hypothesis as it has no affect on determining the exercise duration with the relation of the other variables."
   ]
  },
  {
   "cell_type": "code",
   "execution_count": 99,
   "metadata": {},
   "outputs": [
    {
     "data": {
      "text/html": [
       "<table class=\"simpletable\">\n",
       "<caption>OLS Regression Results</caption>\n",
       "<tr>\n",
       "  <th>Dep. Variable:</th>       <td>tuactdur24</td>    <th>  R-squared:         </th> <td>   0.041</td> \n",
       "</tr>\n",
       "<tr>\n",
       "  <th>Model:</th>                   <td>OLS</td>       <th>  Adj. R-squared:    </th> <td>   0.040</td> \n",
       "</tr>\n",
       "<tr>\n",
       "  <th>Method:</th>             <td>Least Squares</td>  <th>  F-statistic:       </th> <td>   193.4</td> \n",
       "</tr>\n",
       "<tr>\n",
       "  <th>Date:</th>             <td>Mon, 24 Feb 2020</td> <th>  Prob (F-statistic):</th> <td>7.59e-123</td>\n",
       "</tr>\n",
       "<tr>\n",
       "  <th>Time:</th>                 <td>20:31:00</td>     <th>  Log-Likelihood:    </th> <td> -71869.</td> \n",
       "</tr>\n",
       "<tr>\n",
       "  <th>No. Observations:</th>      <td> 13700</td>      <th>  AIC:               </th> <td>1.437e+05</td>\n",
       "</tr>\n",
       "<tr>\n",
       "  <th>Df Residuals:</th>          <td> 13696</td>      <th>  BIC:               </th> <td>1.438e+05</td>\n",
       "</tr>\n",
       "<tr>\n",
       "  <th>Df Model:</th>              <td>     3</td>      <th>                     </th>     <td> </td>    \n",
       "</tr>\n",
       "<tr>\n",
       "  <th>Covariance Type:</th>      <td>nonrobust</td>    <th>                     </th>     <td> </td>    \n",
       "</tr>\n",
       "</table>\n",
       "<table class=\"simpletable\">\n",
       "<tr>\n",
       "      <td></td>         <th>coef</th>     <th>std err</th>      <th>t</th>      <th>P>|t|</th>  <th>[0.025</th>    <th>0.975]</th>  \n",
       "</tr>\n",
       "<tr>\n",
       "  <th>Intercept</th> <td>   97.8996</td> <td>    1.334</td> <td>   73.407</td> <td> 0.000</td> <td>   95.285</td> <td>  100.514</td>\n",
       "</tr>\n",
       "<tr>\n",
       "  <th>teage</th>     <td>   -0.5474</td> <td>    0.023</td> <td>  -24.059</td> <td> 0.000</td> <td>   -0.592</td> <td>   -0.503</td>\n",
       "</tr>\n",
       "<tr>\n",
       "  <th>tehruslt</th>  <td>   -0.1155</td> <td>    0.019</td> <td>   -5.990</td> <td> 0.000</td> <td>   -0.153</td> <td>   -0.078</td>\n",
       "</tr>\n",
       "<tr>\n",
       "  <th>tespuhrs</th>  <td>   -0.0859</td> <td>    0.017</td> <td>   -5.042</td> <td> 0.000</td> <td>   -0.119</td> <td>   -0.052</td>\n",
       "</tr>\n",
       "</table>\n",
       "<table class=\"simpletable\">\n",
       "<tr>\n",
       "  <th>Omnibus:</th>       <td>3162.417</td> <th>  Durbin-Watson:     </th> <td>   1.997</td>\n",
       "</tr>\n",
       "<tr>\n",
       "  <th>Prob(Omnibus):</th>  <td> 0.000</td>  <th>  Jarque-Bera (JB):  </th> <td>6498.278</td>\n",
       "</tr>\n",
       "<tr>\n",
       "  <th>Skew:</th>           <td> 1.371</td>  <th>  Prob(JB):          </th> <td>    0.00</td>\n",
       "</tr>\n",
       "<tr>\n",
       "  <th>Kurtosis:</th>       <td> 4.966</td>  <th>  Cond. No.          </th> <td>    191.</td>\n",
       "</tr>\n",
       "</table><br/><br/>Warnings:<br/>[1] Standard Errors assume that the covariance matrix of the errors is correctly specified."
      ],
      "text/plain": [
       "<class 'statsmodels.iolib.summary.Summary'>\n",
       "\"\"\"\n",
       "                            OLS Regression Results                            \n",
       "==============================================================================\n",
       "Dep. Variable:             tuactdur24   R-squared:                       0.041\n",
       "Model:                            OLS   Adj. R-squared:                  0.040\n",
       "Method:                 Least Squares   F-statistic:                     193.4\n",
       "Date:                Mon, 24 Feb 2020   Prob (F-statistic):          7.59e-123\n",
       "Time:                        20:31:00   Log-Likelihood:                -71869.\n",
       "No. Observations:               13700   AIC:                         1.437e+05\n",
       "Df Residuals:                   13696   BIC:                         1.438e+05\n",
       "Df Model:                           3                                         \n",
       "Covariance Type:            nonrobust                                         \n",
       "==============================================================================\n",
       "                 coef    std err          t      P>|t|      [0.025      0.975]\n",
       "------------------------------------------------------------------------------\n",
       "Intercept     97.8996      1.334     73.407      0.000      95.285     100.514\n",
       "teage         -0.5474      0.023    -24.059      0.000      -0.592      -0.503\n",
       "tehruslt      -0.1155      0.019     -5.990      0.000      -0.153      -0.078\n",
       "tespuhrs      -0.0859      0.017     -5.042      0.000      -0.119      -0.052\n",
       "==============================================================================\n",
       "Omnibus:                     3162.417   Durbin-Watson:                   1.997\n",
       "Prob(Omnibus):                  0.000   Jarque-Bera (JB):             6498.278\n",
       "Skew:                           1.371   Prob(JB):                         0.00\n",
       "Kurtosis:                       4.966   Cond. No.                         191.\n",
       "==============================================================================\n",
       "\n",
       "Warnings:\n",
       "[1] Standard Errors assume that the covariance matrix of the errors is correctly specified.\n",
       "\"\"\""
      ]
     },
     "execution_count": 99,
     "metadata": {},
     "output_type": "execute_result"
    }
   ],
   "source": [
    "formula = 'tuactdur24 ~ teage + tehruslt + tespuhrs'\n",
    "model = smf.ols(formula, data=resp_ex_fem2)\n",
    "results = model.fit()\n",
    "results.summary()"
   ]
  },
  {
   "cell_type": "code",
   "execution_count": 100,
   "metadata": {},
   "outputs": [],
   "source": [
    "# Changing the predictive variables by removing having children did not change the r-squared."
   ]
  },
  {
   "cell_type": "markdown",
   "metadata": {},
   "source": [
    "# Conclusion"
   ]
  },
  {
   "cell_type": "markdown",
   "metadata": {},
   "source": [
    "Looking at if females who have children exercise less than those that do not have children, through comparisons of CDF, hypothesis testing, and simple regression, the analysis points to the null hypothesis being statically significant. We will reject the null hypothesis and accept the alternative that females with children exercise less than those that do not have children. However, having children alone does not account for the majority of reasons why females exercise less. Having children only accounts for 0.9% of the difference in exercising between the two groups. Other reasons as to why they exercise less were not found in this study. When adding other variables such as age, hours the respondent worked, and the hours their spouse worked, it increased the accountability for exercise duration, however, having children or no children did not affect the duration of exercise when mixed with the other variables. In this case the null hypothesis would be accepted and the alternative would be rejected."
   ]
  },
  {
   "cell_type": "code",
   "execution_count": null,
   "metadata": {},
   "outputs": [],
   "source": []
  }
 ],
 "metadata": {
  "kernelspec": {
   "display_name": "Python 3",
   "language": "python",
   "name": "python3"
  },
  "language_info": {
   "codemirror_mode": {
    "name": "ipython",
    "version": 3
   },
   "file_extension": ".py",
   "mimetype": "text/x-python",
   "name": "python",
   "nbconvert_exporter": "python",
   "pygments_lexer": "ipython3",
   "version": "3.7.4"
  }
 },
 "nbformat": 4,
 "nbformat_minor": 2
}
